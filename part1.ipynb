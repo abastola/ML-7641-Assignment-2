{
  "nbformat": 4,
  "nbformat_minor": 0,
  "metadata": {
    "colab": {
      "name": "part1.ipynb",
      "provenance": [],
      "collapsed_sections": []
    },
    "kernelspec": {
      "name": "python3",
      "display_name": "Python 3"
    }
  },
  "cells": [
    {
      "cell_type": "code",
      "metadata": {
        "id": "XComJvcOscah"
      },
      "source": [
        "!pip install pandas numpy sklearn mlrose_hiive mlrose seaborn"
      ],
      "execution_count": null,
      "outputs": []
    },
    {
      "cell_type": "code",
      "metadata": {
        "id": "rruu_OABW_WB"
      },
      "source": [
        "import six\n",
        "import sys\n",
        "sys.modules['sklearn.externals.six'] = six\n",
        "\n",
        "import pandas as pd\n",
        "import numpy as np\n",
        "from sklearn.model_selection import train_test_split\n",
        "from sklearn.preprocessing import StandardScaler\n",
        "import mlrose_hiive as mlrose\n",
        "import mlrose as mlrose_old\n",
        "from sklearn.metrics import accuracy_score, f1_score\n",
        "import seaborn as sns\n",
        "import time\n",
        "\n",
        "from mlrose_hiive.algorithms.decay import GeomDecay\n",
        "\n",
        "\n",
        "#Random State\n",
        "rs = 614"
      ],
      "execution_count": null,
      "outputs": []
    },
    {
      "cell_type": "code",
      "metadata": {
        "id": "NNjUXpNWXGLP"
      },
      "source": [
        "class Data():\n",
        "    def dataAllocation(self, path):\n",
        "        df = pd.read_csv(path)\n",
        "        x_data = df.iloc[:, :-1]\n",
        "        y_data = df.iloc[:, -1 ]\n",
        "        return x_data,y_data\n",
        "\n",
        "    def trainSets(self,x_data,y_data):\n",
        "        x_train, x_test, y_train, y_test = train_test_split(x_data, y_data, test_size = 0.3, random_state = rs, shuffle = True)\n",
        "        return x_train, x_test, y_train, y_test\n",
        "dataset = Data()\n",
        "x1_data,y1_data = dataset.dataAllocation('pima-indians-diabetes.csv')\n",
        "x1_train, x1_test, y1_train, y1_test = dataset.trainSets(x1_data,y1_data)\n",
        "scaler = StandardScaler()\n",
        "scaled_x1_train = scaler.fit_transform(x1_train)\n",
        "scaled_x1_test = scaler.transform(x1_test)"
      ],
      "execution_count": null,
      "outputs": []
    },
    {
      "cell_type": "code",
      "metadata": {
        "id": "RniIiRgrXQr2"
      },
      "source": [
        "algorithms = ['random_hill_climb', 'simulated_annealing', 'genetic_alg']\n",
        "algorithm = algorithms[0]"
      ],
      "execution_count": null,
      "outputs": []
    },
    {
      "cell_type": "code",
      "metadata": {
        "colab": {
          "base_uri": "https://localhost:8080/"
        },
        "id": "vulxqbQeXYIz",
        "outputId": "0cbdcbcb-abab-4c25-9fc4-6df42a9ab914"
      },
      "source": [
        "results = []\n",
        "for i in range(1, 5002, 100):\n",
        "        model = mlrose.NeuralNetwork(hidden_nodes=[4], activation='relu',\n",
        "                                        algorithm=algorithm, max_iters=i,\n",
        "                                        bias=True, is_classifier=True, learning_rate=0.1,\n",
        "                                        early_stopping=True, clip_max=5, max_attempts=100,\n",
        "                                        random_state=rs)\n",
        "        model.fit(scaled_x1_train, y1_train)\n",
        "        y_train_pred = model.predict(scaled_x1_train)\n",
        "        y_train_accuracy = accuracy_score(y1_train, y_train_pred)\n",
        "\n",
        "        y_test_pred = model.predict(scaled_x1_test)\n",
        "        y_test_accuracy = accuracy_score(y1_test, y_test_pred)\n",
        "\n",
        "        f1score = f1_score(y1_test, y_test_pred)\n",
        "\n",
        "        results.append([i, algorithm, y_train_accuracy, y_test_accuracy, f1score])\n",
        "        print([i, algorithm, y_train_accuracy, y_test_accuracy, f1score])\n",
        "        "
      ],
      "execution_count": null,
      "outputs": [
        {
          "output_type": "stream",
          "text": [
            "[1, 'random_hill_climb', 0.521415270018622, 0.49783549783549785, 0.38947368421052625]\n",
            "[101, 'random_hill_climb', 0.6089385474860335, 0.6190476190476191, 0.4358974358974359]\n",
            "[201, 'random_hill_climb', 0.7411545623836127, 0.7056277056277056, 0.5342465753424657]\n",
            "[301, 'random_hill_climb', 0.7653631284916201, 0.7272727272727273, 0.5190839694656489]\n",
            "[401, 'random_hill_climb', 0.7839851024208566, 0.7532467532467533, 0.6013986013986014]\n",
            "[501, 'random_hill_climb', 0.7914338919925512, 0.7445887445887446, 0.593103448275862]\n",
            "[601, 'random_hill_climb', 0.7914338919925512, 0.7229437229437229, 0.5675675675675677]\n",
            "[701, 'random_hill_climb', 0.7951582867783985, 0.7359307359307359, 0.5793103448275863]\n",
            "[801, 'random_hill_climb', 0.7932960893854749, 0.7316017316017316, 0.5507246376811594]\n",
            "[901, 'random_hill_climb', 0.8044692737430168, 0.7316017316017316, 0.5507246376811594]\n",
            "[1001, 'random_hill_climb', 0.8026070763500931, 0.7359307359307359, 0.5611510791366906]\n",
            "[1101, 'random_hill_climb', 0.8081936685288641, 0.7445887445887446, 0.5755395683453237]\n",
            "[1201, 'random_hill_climb', 0.813780260707635, 0.7359307359307359, 0.5547445255474452]\n",
            "[1301, 'random_hill_climb', 0.819366852886406, 0.7489177489177489, 0.573529411764706]\n",
            "[1401, 'random_hill_climb', 0.8100558659217877, 0.7532467532467533, 0.5777777777777778]\n",
            "[1501, 'random_hill_climb', 0.813780260707635, 0.7489177489177489, 0.5671641791044777]\n",
            "[1601, 'random_hill_climb', 0.8119180633147114, 0.7445887445887446, 0.5693430656934306]\n",
            "[1701, 'random_hill_climb', 0.813780260707635, 0.7445887445887446, 0.5693430656934306]\n",
            "[1801, 'random_hill_climb', 0.8119180633147114, 0.7575757575757576, 0.582089552238806]\n",
            "[1901, 'random_hill_climb', 0.8175046554934823, 0.7402597402597403, 0.5652173913043478]\n",
            "[2001, 'random_hill_climb', 0.8175046554934823, 0.7402597402597403, 0.5588235294117648]\n",
            "[2101, 'random_hill_climb', 0.8175046554934823, 0.7445887445887446, 0.562962962962963]\n",
            "[2201, 'random_hill_climb', 0.8175046554934823, 0.7445887445887446, 0.5693430656934306]\n",
            "[2301, 'random_hill_climb', 0.8175046554934823, 0.7445887445887446, 0.5693430656934306]\n",
            "[2401, 'random_hill_climb', 0.813780260707635, 0.7445887445887446, 0.5693430656934306]\n",
            "[2501, 'random_hill_climb', 0.8156424581005587, 0.7489177489177489, 0.573529411764706]\n",
            "[2601, 'random_hill_climb', 0.813780260707635, 0.7445887445887446, 0.5693430656934306]\n",
            "[2701, 'random_hill_climb', 0.8119180633147114, 0.7445887445887446, 0.5693430656934306]\n",
            "[2801, 'random_hill_climb', 0.8156424581005587, 0.7445887445887446, 0.5693430656934306]\n",
            "[2901, 'random_hill_climb', 0.8119180633147114, 0.7489177489177489, 0.573529411764706]\n",
            "[3001, 'random_hill_climb', 0.8119180633147114, 0.7489177489177489, 0.5797101449275361]\n",
            "[3101, 'random_hill_climb', 0.8119180633147114, 0.7489177489177489, 0.5797101449275361]\n",
            "[3201, 'random_hill_climb', 0.8119180633147114, 0.7489177489177489, 0.5797101449275361]\n",
            "[3301, 'random_hill_climb', 0.8119180633147114, 0.7489177489177489, 0.5797101449275361]\n",
            "[3401, 'random_hill_climb', 0.8119180633147114, 0.7489177489177489, 0.5797101449275361]\n",
            "[3501, 'random_hill_climb', 0.8119180633147114, 0.7489177489177489, 0.5797101449275361]\n",
            "[3601, 'random_hill_climb', 0.8119180633147114, 0.7489177489177489, 0.5797101449275361]\n",
            "[3701, 'random_hill_climb', 0.8119180633147114, 0.7489177489177489, 0.5797101449275361]\n",
            "[3801, 'random_hill_climb', 0.8119180633147114, 0.7489177489177489, 0.5797101449275361]\n",
            "[3901, 'random_hill_climb', 0.8119180633147114, 0.7489177489177489, 0.5797101449275361]\n",
            "[4001, 'random_hill_climb', 0.8119180633147114, 0.7489177489177489, 0.5797101449275361]\n",
            "[4101, 'random_hill_climb', 0.8119180633147114, 0.7489177489177489, 0.5797101449275361]\n",
            "[4201, 'random_hill_climb', 0.8119180633147114, 0.7489177489177489, 0.5797101449275361]\n",
            "[4301, 'random_hill_climb', 0.8119180633147114, 0.7489177489177489, 0.5797101449275361]\n",
            "[4401, 'random_hill_climb', 0.8119180633147114, 0.7489177489177489, 0.5797101449275361]\n",
            "[4501, 'random_hill_climb', 0.8119180633147114, 0.7489177489177489, 0.5797101449275361]\n",
            "[4601, 'random_hill_climb', 0.8119180633147114, 0.7489177489177489, 0.5797101449275361]\n",
            "[4701, 'random_hill_climb', 0.8119180633147114, 0.7489177489177489, 0.5797101449275361]\n",
            "[4801, 'random_hill_climb', 0.8119180633147114, 0.7489177489177489, 0.5797101449275361]\n",
            "[4901, 'random_hill_climb', 0.8119180633147114, 0.7489177489177489, 0.5797101449275361]\n",
            "[5001, 'random_hill_climb', 0.8119180633147114, 0.7489177489177489, 0.5797101449275361]\n"
          ],
          "name": "stdout"
        }
      ]
    },
    {
      "cell_type": "code",
      "metadata": {
        "id": "DBL-Iu17XcLT"
      },
      "source": [
        "df = pd.DataFrame(results, columns=[\"Iterations\", \"Algorithm\", \"Train Accuracy\", \"Test Accuracy\", \"F1 Score\"])"
      ],
      "execution_count": null,
      "outputs": []
    },
    {
      "cell_type": "code",
      "metadata": {
        "colab": {
          "base_uri": "https://localhost:8080/",
          "height": 296
        },
        "id": "RunCyzu0XdVc",
        "outputId": "71d948ea-a175-4423-a566-c636b9220846"
      },
      "source": [
        "sns.lineplot(data=df, x=\"Iterations\", y=\"F1 Score\", hue=\"Algorithm\")"
      ],
      "execution_count": null,
      "outputs": [
        {
          "output_type": "execute_result",
          "data": {
            "text/plain": [
              "<matplotlib.axes._subplots.AxesSubplot at 0x7fe8bf931310>"
            ]
          },
          "metadata": {
            "tags": []
          },
          "execution_count": 12
        },
        {
          "output_type": "display_data",
          "data": {
            "image/png": "[encoded data removed]",
            "text/plain": [
              "<Figure size 432x288 with 1 Axes>"
            ]
          },
          "metadata": {
            "tags": [],
            "needs_background": "light"
          }
        }
      ]
    },
    {
      "cell_type": "code",
      "metadata": {
        "colab": {
          "base_uri": "https://localhost:8080/",
          "height": 296
        },
        "id": "TXkpI0Y3Xe9N",
        "outputId": "fa201e07-2221-4d27-a421-ed80ce8cc875"
      },
      "source": [
        "sns.lineplot(data=df, x=\"Iterations\", y=\"Test Accuracy\", hue=\"Algorithm\")"
      ],
      "execution_count": null,
      "outputs": [
        {
          "output_type": "execute_result",
          "data": {
            "text/plain": [
              "<matplotlib.axes._subplots.AxesSubplot at 0x7fe8bf3eb810>"
            ]
          },
          "metadata": {
            "tags": []
          },
          "execution_count": 13
        },
        {
          "output_type": "display_data",
          "data": {
            "image/png": "[encoded data removed]",
            "text/plain": [
              "<Figure size 432x288 with 1 Axes>"
            ]
          },
          "metadata": {
            "tags": [],
            "needs_background": "light"
          }
        }
      ]
    },
    {
      "cell_type": "code",
      "metadata": {
        "colab": {
          "base_uri": "https://localhost:8080/"
        },
        "id": "o5XcGpnjadOj",
        "outputId": "22d65e3b-11a9-436e-fd8f-e6b2df9815dd"
      },
      "source": [
        "results = []\n",
        "for i in range(1, 11):\n",
        "    model = mlrose.NeuralNetwork(hidden_nodes=[4], activation='relu',\n",
        "                                algorithm=algorithm, max_iters=3000,\n",
        "                                bias=True, is_classifier=True, learning_rate=0.1,\n",
        "                                early_stopping=True, clip_max=5, max_attempts=100,\n",
        "                                restarts=10)\n",
        "    model.fit(scaled_x1_train, y1_train)\n",
        "    y_train_pred = model.predict(scaled_x1_train)\n",
        "    y_train_accuracy = accuracy_score(y1_train, y_train_pred)\n",
        "\n",
        "    y_test_pred = model.predict(scaled_x1_test)\n",
        "    y_test_accuracy = accuracy_score(y1_test, y_test_pred)\n",
        "\n",
        "    f1score = f1_score(y1_test, y_test_pred)\n",
        "    results.append([i, algorithm, y_train_accuracy, y_test_accuracy, f1score])\n",
        "    print([i, algorithm, y_train_accuracy, y_test_accuracy, f1score])\n"
      ],
      "execution_count": null,
      "outputs": [
        {
          "output_type": "stream",
          "text": [
            "[1, 'random_hill_climb', 0.7988826815642458, 0.7272727272727273, 0.5401459854014599]\n",
            "[2, 'random_hill_climb', 0.8119180633147114, 0.7186147186147186, 0.5454545454545454]\n",
            "[3, 'random_hill_climb', 0.813780260707635, 0.7316017316017316, 0.5303030303030304]\n",
            "[4, 'random_hill_climb', 0.7988826815642458, 0.7142857142857143, 0.4923076923076923]\n",
            "[5, 'random_hill_climb', 0.8044692737430168, 0.7445887445887446, 0.5426356589147286]\n",
            "[6, 'random_hill_climb', 0.8081936685288641, 0.7489177489177489, 0.5671641791044777]\n",
            "[7, 'random_hill_climb', 0.8081936685288641, 0.7575757575757576, 0.5757575757575758]\n",
            "[8, 'random_hill_climb', 0.8044692737430168, 0.7229437229437229, 0.5362318840579711]\n",
            "[9, 'random_hill_climb', 0.8175046554934823, 0.7445887445887446, 0.593103448275862]\n",
            "[10, 'random_hill_climb', 0.8175046554934823, 0.70995670995671, 0.49624060150375937]\n"
          ],
          "name": "stdout"
        }
      ]
    },
    {
      "cell_type": "code",
      "metadata": {
        "colab": {
          "base_uri": "https://localhost:8080/",
          "height": 296
        },
        "id": "NLOxxv3Dboy5",
        "outputId": "c8b56902-da5c-4ece-c795-8e17bd6224da"
      },
      "source": [
        "runs = pd.DataFrame(results, columns=[\"Runs\", \"Algorithm\", \"Train Accuracy\", \"Test Accuracy\", \"F1 Score\"])\n",
        "sns.lineplot(data=runs, x=\"Runs\", y=\"F1 Score\")"
      ],
      "execution_count": null,
      "outputs": [
        {
          "output_type": "execute_result",
          "data": {
            "text/plain": [
              "<matplotlib.axes._subplots.AxesSubplot at 0x7fe8bf450710>"
            ]
          },
          "metadata": {
            "tags": []
          },
          "execution_count": 15
        },
        {
          "output_type": "display_data",
          "data": {
            "image/png": "[encoded data removed]",
            "text/plain": [
              "<Figure size 432x288 with 1 Axes>"
            ]
          },
          "metadata": {
            "tags": [],
            "needs_background": "light"
          }
        }
      ]
    },
    {
      "cell_type": "code",
      "metadata": {
        "id": "L6t310xMbs91"
      },
      "source": [
        "df.to_csv(\"nn_sa_ex1.csv\", index=False)"
      ],
      "execution_count": null,
      "outputs": []
    },
    {
      "cell_type": "code",
      "metadata": {
        "id": "DDZpBWyehfCf"
      },
      "source": [
        "runs.to_csv(\"nn_sa_ex2.csv\", index=False)"
      ],
      "execution_count": null,
      "outputs": []
    },
    {
      "cell_type": "code",
      "metadata": {
        "colab": {
          "base_uri": "https://localhost:8080/",
          "height": 35
        },
        "id": "EtsYRestjL5E",
        "outputId": "e774c746-6edc-4cc5-de37-eab1a3fba373"
      },
      "source": [
        "algorithms[1]"
      ],
      "execution_count": null,
      "outputs": [
        {
          "output_type": "execute_result",
          "data": {
            "application/vnd.google.colaboratory.intrinsic+json": {
              "type": "string"
            },
            "text/plain": [
              "'simulated_annealing'"
            ]
          },
          "metadata": {
            "tags": []
          },
          "execution_count": 21
        }
      ]
    },
    {
      "cell_type": "code",
      "metadata": {
        "colab": {
          "base_uri": "https://localhost:8080/"
        },
        "id": "tIQ8VcqKhnhv",
        "outputId": "cea3e612-740e-4487-c357-b974f1ea5849"
      },
      "source": [
        "results = []\n",
        "algorithm='simulated_annealing'\n",
        "for i in range(1, 20000, 1000):\n",
        "        model = mlrose.NeuralNetwork(hidden_nodes=[4], activation='relu',\n",
        "                                        algorithm=algorithm, max_iters=i,\n",
        "                                        bias=True, is_classifier=True, learning_rate=0.1,\n",
        "                                        early_stopping=True, clip_max=5, max_attempts=100,\n",
        "                                        random_state=rs)\n",
        "        model.fit(scaled_x1_train, y1_train)\n",
        "        y_train_pred = model.predict(scaled_x1_train)\n",
        "        y_train_accuracy = accuracy_score(y1_train, y_train_pred)\n",
        "\n",
        "        y_test_pred = model.predict(scaled_x1_test)\n",
        "        y_test_accuracy = accuracy_score(y1_test, y_test_pred)\n",
        "\n",
        "        f1score = f1_score(y1_test, y_test_pred)\n",
        "\n",
        "        results.append([i, algorithm, y_train_accuracy, y_test_accuracy, f1score])\n",
        "        print([i, algorithm, y_train_accuracy, y_test_accuracy, f1score])\n",
        "  "
      ],
      "execution_count": null,
      "outputs": [
        {
          "output_type": "stream",
          "text": [
            "[1, 'simulated_annealing', 0.521415270018622, 0.4935064935064935, 0.38743455497382195]\n",
            "[1001, 'simulated_annealing', 0.4450651769087523, 0.4025974025974026, 0.3893805309734514]\n",
            "[2001, 'simulated_annealing', 0.5791433891992551, 0.5627705627705628, 0.4161849710982659]\n",
            "[3001, 'simulated_annealing', 0.5232774674115456, 0.5670995670995671, 0.4623655913978495]\n",
            "[4001, 'simulated_annealing', 0.553072625698324, 0.5800865800865801, 0.5125628140703516]\n",
            "[5001, 'simulated_annealing', 0.5176908752327747, 0.38961038961038963, 0.4244897959183674]\n",
            "[6001, 'simulated_annealing', 0.62756052141527, 0.6363636363636364, 0.4166666666666667]\n",
            "[7001, 'simulated_annealing', 0.6052141527001862, 0.5974025974025974, 0.5279187817258882]\n",
            "[8001, 'simulated_annealing', 0.6778398510242085, 0.658008658008658, 0.5635359116022101]\n",
            "[9001, 'simulated_annealing', 0.5586592178770949, 0.5670995670995671, 0.5098039215686274]\n",
            "[10001, 'simulated_annealing', 0.3985102420856611, 0.3939393939393939, 0.4852941176470588]\n",
            "[11001, 'simulated_annealing', 0.44692737430167595, 0.4199134199134199, 0.4322033898305085]\n",
            "[12001, 'simulated_annealing', 0.5139664804469274, 0.5497835497835498, 0.4800000000000001]\n",
            "[13001, 'simulated_annealing', 0.5176908752327747, 0.5454545454545454, 0.4262295081967213]\n",
            "[14001, 'simulated_annealing', 0.43202979515828677, 0.47186147186147187, 0.44036697247706424]\n",
            "[15001, 'simulated_annealing', 0.4543761638733706, 0.45454545454545453, 0.4056603773584906]\n",
            "[16001, 'simulated_annealing', 0.45251396648044695, 0.4805194805194805, 0.4117647058823529]\n",
            "[17001, 'simulated_annealing', 0.49534450651769085, 0.48484848484848486, 0.41379310344827586]\n",
            "[18001, 'simulated_annealing', 0.6554934823091247, 0.5670995670995671, 0.46808510638297873]\n",
            "[19001, 'simulated_annealing', 0.5754189944134078, 0.5974025974025974, 0.4918032786885246]\n"
          ],
          "name": "stdout"
        }
      ]
    },
    {
      "cell_type": "code",
      "metadata": {
        "colab": {
          "base_uri": "https://localhost:8080/",
          "height": 296
        },
        "id": "XLNE0DVsiGZ5",
        "outputId": "2074f223-7aa9-49a7-fdc5-f7fc3f56eb9c"
      },
      "source": [
        "df_sa = pd.DataFrame(results, columns=[\"Iterations\", \"Algorithm\", \"Train Accuracy\", \"Test Accuracy\", \"F1 Score\"])\n",
        "sns.lineplot(data=df_sa, x=\"Iterations\", y=\"F1 Score\", hue=\"Algorithm\")"
      ],
      "execution_count": null,
      "outputs": [
        {
          "output_type": "execute_result",
          "data": {
            "text/plain": [
              "<matplotlib.axes._subplots.AxesSubplot at 0x7fe8ba823b50>"
            ]
          },
          "metadata": {
            "tags": []
          },
          "execution_count": 26
        },
        {
          "output_type": "display_data",
          "data": {
            "image/png": "[encoded data removed]",
            "text/plain": [
              "<Figure size 432x288 with 1 Axes>"
            ]
          },
          "metadata": {
            "tags": [],
            "needs_background": "light"
          }
        }
      ]
    },
    {
      "cell_type": "code",
      "metadata": {
        "colab": {
          "base_uri": "https://localhost:8080/",
          "height": 296
        },
        "id": "h0-NjHdGiSdi",
        "outputId": "d7773d31-fb56-4358-c4b9-cbd3a5748184"
      },
      "source": [
        "sns.lineplot(data=df_sa, x=\"Iterations\", y=\"Test Accuracy\", hue=\"Algorithm\")"
      ],
      "execution_count": null,
      "outputs": [
        {
          "output_type": "execute_result",
          "data": {
            "text/plain": [
              "<matplotlib.axes._subplots.AxesSubplot at 0x7fe8ba925dd0>"
            ]
          },
          "metadata": {
            "tags": []
          },
          "execution_count": 27
        },
        {
          "output_type": "display_data",
          "data": {
            "image/png": "[encoded data removed]",
            "text/plain": [
              "<Figure size 432x288 with 1 Axes>"
            ]
          },
          "metadata": {
            "tags": [],
            "needs_background": "light"
          }
        }
      ]
    },
    {
      "cell_type": "code",
      "metadata": {
        "colab": {
          "base_uri": "https://localhost:8080/"
        },
        "id": "ceXOjtM4mZD4",
        "outputId": "a26f8563-6381-4f43-d295-f5df11d73994"
      },
      "source": [
        "results = []\n",
        "algorithm = algorithms[2]\n",
        "for i in range(1, 800, 100):\n",
        "        model = mlrose.NeuralNetwork(hidden_nodes=[4], activation='relu',\n",
        "                                        algorithm=algorithm, max_iters=i,\n",
        "                                        bias=True, is_classifier=True, learning_rate=0.1,\n",
        "                                        early_stopping=True, clip_max=5, max_attempts=100,\n",
        "                                        random_state=rs, pop_size=200, mutation_prob = 0.1)\n",
        "\n",
        "                                 \n",
        "        model.fit(scaled_x1_train, y1_train)\n",
        "        y_train_pred = model.predict(scaled_x1_train)\n",
        "        y_train_accuracy = accuracy_score(y1_train, y_train_pred)\n",
        "\n",
        "        y_test_pred = model.predict(scaled_x1_test)\n",
        "        y_test_accuracy = accuracy_score(y1_test, y_test_pred)\n",
        "\n",
        "        f1score = f1_score(y1_test, y_test_pred)\n",
        "\n",
        "        results.append([i, algorithm, y_train_accuracy, y_test_accuracy, f1score])\n",
        "        print([i, algorithm, y_train_accuracy, y_test_accuracy, f1score])"
      ],
      "execution_count": null,
      "outputs": [
        {
          "output_type": "stream",
          "text": [
            "[1, 'genetic_alg', 0.6424581005586593, 0.658008658008658, 0.07058823529411765]\n",
            "[101, 'genetic_alg', 0.7728119180633147, 0.7316017316017316, 0.5921052631578947]\n",
            "[201, 'genetic_alg', 0.7914338919925512, 0.7359307359307359, 0.5793103448275863]\n",
            "[301, 'genetic_alg', 0.7895716945996276, 0.7359307359307359, 0.5734265734265734]\n",
            "[401, 'genetic_alg', 0.7970204841713222, 0.7272727272727273, 0.5655172413793104]\n",
            "[501, 'genetic_alg', 0.7914338919925512, 0.7489177489177489, 0.591549295774648]\n",
            "[601, 'genetic_alg', 0.7914338919925512, 0.7489177489177489, 0.591549295774648]\n",
            "[701, 'genetic_alg', 0.7914338919925512, 0.7489177489177489, 0.591549295774648]\n"
          ],
          "name": "stdout"
        }
      ]
    },
    {
      "cell_type": "code",
      "metadata": {
        "colab": {
          "base_uri": "https://localhost:8080/",
          "height": 296
        },
        "id": "QO4ZYyxirw7I",
        "outputId": "8f8d8701-7a18-430d-f6a2-5ba6e2639434"
      },
      "source": [
        "df_ga = pd.DataFrame(results, columns=[\"Iterations\", \"Algorithm\", \"Train Accuracy\", \"Test Accuracy\", \"F1 Score\"])\n",
        "sns.lineplot(data=df_ga, x=\"Iterations\", y=\"F1 Score\", hue=\"Algorithm\")"
      ],
      "execution_count": null,
      "outputs": [
        {
          "output_type": "execute_result",
          "data": {
            "text/plain": [
              "<matplotlib.axes._subplots.AxesSubplot at 0x7fe8ba711750>"
            ]
          },
          "metadata": {
            "tags": []
          },
          "execution_count": 41
        },
        {
          "output_type": "display_data",
          "data": {
            "image/png": "[encoded data removed]",
            "text/plain": [
              "<Figure size 432x288 with 1 Axes>"
            ]
          },
          "metadata": {
            "tags": [],
            "needs_background": "light"
          }
        }
      ]
    },
    {
      "cell_type": "code",
      "metadata": {
        "colab": {
          "base_uri": "https://localhost:8080/",
          "height": 296
        },
        "id": "ikGhe2R0ujsg",
        "outputId": "7374e9c1-1c02-4cae-b091-42f42ce575ac"
      },
      "source": [
        "sns.lineplot(data=df_ga, x=\"Iterations\", y=\"Test Accuracy\", hue=\"Algorithm\")"
      ],
      "execution_count": null,
      "outputs": [
        {
          "output_type": "execute_result",
          "data": {
            "text/plain": [
              "<matplotlib.axes._subplots.AxesSubplot at 0x7fe8ba618c10>"
            ]
          },
          "metadata": {
            "tags": []
          },
          "execution_count": 42
        },
        {
          "output_type": "display_data",
          "data": {
            "image/png": "[encoded data removed]",
            "text/plain": [
              "<Figure size 432x288 with 1 Axes>"
            ]
          },
          "metadata": {
            "tags": [],
            "needs_background": "light"
          }
        }
      ]
    },
    {
      "cell_type": "code",
      "metadata": {
        "id": "IdVak-Lcuk59"
      },
      "source": [
        "# Run time train and test for all optimizers"
      ],
      "execution_count": null,
      "outputs": []
    },
    {
      "cell_type": "code",
      "metadata": {
        "colab": {
          "base_uri": "https://localhost:8080/"
        },
        "id": "IiA76Nc4ywVQ",
        "outputId": "349a7c3e-78e5-44ea-cc5d-5fa0c7ce9f4b"
      },
      "source": [
        "times = []\n",
        "model = mlrose.NeuralNetwork(hidden_nodes=[4], activation='relu',\n",
        "                                algorithm=algorithms[0], max_iters=3000,\n",
        "                                bias=True, is_classifier=True, learning_rate=0.1,\n",
        "                                early_stopping=True, clip_max=5, max_attempts=100)\n",
        "start = time.time()    \n",
        "model.fit(scaled_x1_train, y1_train)\n",
        "traintime = time.time()-start\n",
        "start = time.time() \n",
        "y_train_pred = model.predict(scaled_x1_train)\n",
        "testime = time.time()-start\n",
        "y_train_accuracy = accuracy_score(y1_train, y_train_pred)\n",
        "\n",
        "y_test_pred = model.predict(scaled_x1_test)\n",
        "y_test_accuracy = accuracy_score(y1_test, y_test_pred)\n",
        "\n",
        "f1score = f1_score(y1_test, y_test_pred)\n",
        "\n",
        "times.append([algorithms[0], traintime, y_test_accuracy, testime])\n",
        "\n",
        "model = mlrose.NeuralNetwork(hidden_nodes=[4], activation='relu',\n",
        "                                        algorithm=algorithms[1], max_iters=3000,\n",
        "                                        bias=True, is_classifier=True, learning_rate=0.1,\n",
        "                                        early_stopping=True, clip_max=5, max_attempts=100,\n",
        "                                        random_state=rs)\n",
        "start = time.time()    \n",
        "model.fit(scaled_x1_train, y1_train)\n",
        "traintime = time.time()-start\n",
        "start = time.time() \n",
        "y_train_pred = model.predict(scaled_x1_train)\n",
        "testime = time.time()-start\n",
        "y_train_accuracy = accuracy_score(y1_train, y_train_pred)\n",
        "\n",
        "y_test_pred = model.predict(scaled_x1_test)\n",
        "y_test_accuracy = accuracy_score(y1_test, y_test_pred)\n",
        "\n",
        "f1score = f1_score(y1_test, y_test_pred)\n",
        "times.append([algorithms[1], traintime, y_test_accuracy, testime])\n",
        "\n",
        "model = mlrose.NeuralNetwork(hidden_nodes=[4], activation='relu',\n",
        "                                        algorithm=algorithms[2], max_iters=500,\n",
        "                                        bias=True, is_classifier=True, learning_rate=0.1,\n",
        "                                        early_stopping=True, clip_max=5, max_attempts=100,\n",
        "                                        random_state=rs, pop_size=200, mutation_prob = 0.1)\n",
        "start = time.time()    \n",
        "model.fit(scaled_x1_train, y1_train)\n",
        "traintime = time.time()-start\n",
        "start = time.time() \n",
        "y_train_pred = model.predict(scaled_x1_train)\n",
        "testime = time.time()-start\n",
        "y_train_accuracy = accuracy_score(y1_train, y_train_pred)\n",
        "\n",
        "y_test_pred = model.predict(scaled_x1_test)\n",
        "y_test_accuracy = accuracy_score(y1_test, y_test_pred)\n",
        "\n",
        "f1score = f1_score(y1_test, y_test_pred)\n",
        "times.append([algorithms[2], traintime, y_test_accuracy, testime])\n",
        "print(times)"
      ],
      "execution_count": null,
      "outputs": [
        {
          "output_type": "stream",
          "text": [
            "[['random_hill_climb', 2.9928476810455322, 0.7489177489177489, 0.0002460479736328125], ['simulated_annealing', 5.2732179164886475, 0.7186147186147186, 0.0002372264862060547], ['genetic_alg', 102.3660786151886, 0.7489177489177489, 0.00025773048400878906]]\n"
          ],
          "name": "stdout"
        }
      ]
    },
    {
      "cell_type": "code",
      "metadata": {
        "id": "ZBtcQQ-RzPJP"
      },
      "source": [
        "df_times = pd.DataFrame(times, columns=[\"Algorithm\", \"Training Time\", \"Test Accuracy\", \"Testing Time\"])"
      ],
      "execution_count": null,
      "outputs": []
    },
    {
      "cell_type": "code",
      "metadata": {
        "colab": {
          "base_uri": "https://localhost:8080/",
          "height": 142
        },
        "id": "RWYqhpbF1rj5",
        "outputId": "3d40b63b-5d68-46fc-f90d-58b22277eaf4"
      },
      "source": [
        "df_times.head()"
      ],
      "execution_count": null,
      "outputs": [
        {
          "output_type": "execute_result",
          "data": {
            "text/html": [
              "<div>\n",
              "<style scoped>\n",
              "    .dataframe tbody tr th:only-of-type {\n",
              "        vertical-align: middle;\n",
              "    }\n",
              "\n",
              "    .dataframe tbody tr th {\n",
              "        vertical-align: top;\n",
              "    }\n",
              "\n",
              "    .dataframe thead th {\n",
              "        text-align: right;\n",
              "    }\n",
              "</style>\n",
              "<table border=\"1\" class=\"dataframe\">\n",
              "  <thead>\n",
              "    <tr style=\"text-align: right;\">\n",
              "      <th></th>\n",
              "      <th>Algorithm</th>\n",
              "      <th>Training Time</th>\n",
              "      <th>Test Accuracy</th>\n",
              "      <th>Testing Time</th>\n",
              "    </tr>\n",
              "  </thead>\n",
              "  <tbody>\n",
              "    <tr>\n",
              "      <th>0</th>\n",
              "      <td>random_hill_climb</td>\n",
              "      <td>2.992848</td>\n",
              "      <td>0.748918</td>\n",
              "      <td>0.000246</td>\n",
              "    </tr>\n",
              "    <tr>\n",
              "      <th>1</th>\n",
              "      <td>simulated_annealing</td>\n",
              "      <td>5.273218</td>\n",
              "      <td>0.718615</td>\n",
              "      <td>0.000237</td>\n",
              "    </tr>\n",
              "    <tr>\n",
              "      <th>2</th>\n",
              "      <td>genetic_alg</td>\n",
              "      <td>102.366079</td>\n",
              "      <td>0.748918</td>\n",
              "      <td>0.000258</td>\n",
              "    </tr>\n",
              "  </tbody>\n",
              "</table>\n",
              "</div>"
            ],
            "text/plain": [
              "             Algorithm  Training Time  Test Accuracy  Testing Time\n",
              "0    random_hill_climb       2.992848       0.748918      0.000246\n",
              "1  simulated_annealing       5.273218       0.718615      0.000237\n",
              "2          genetic_alg     102.366079       0.748918      0.000258"
            ]
          },
          "metadata": {
            "tags": []
          },
          "execution_count": 83
        }
      ]
    },
    {
      "cell_type": "code",
      "metadata": {
        "id": "vSGsppf_2JfX"
      },
      "source": [
        "df_times = df_times.melt(id_vars=[\"Algorithm\"], \n",
        "        var_name=[\"Type\"], \n",
        "        value_name=\"Value\")"
      ],
      "execution_count": null,
      "outputs": []
    },
    {
      "cell_type": "code",
      "metadata": {
        "colab": {
          "base_uri": "https://localhost:8080/",
          "height": 328
        },
        "id": "EAX2MWnH2oYP",
        "outputId": "fbeea764-7824-4dc4-85f6-3582616c6afd"
      },
      "source": [
        "df_times.head(20)"
      ],
      "execution_count": null,
      "outputs": [
        {
          "output_type": "execute_result",
          "data": {
            "text/html": [
              "<div>\n",
              "<style scoped>\n",
              "    .dataframe tbody tr th:only-of-type {\n",
              "        vertical-align: middle;\n",
              "    }\n",
              "\n",
              "    .dataframe tbody tr th {\n",
              "        vertical-align: top;\n",
              "    }\n",
              "\n",
              "    .dataframe thead th {\n",
              "        text-align: right;\n",
              "    }\n",
              "</style>\n",
              "<table border=\"1\" class=\"dataframe\">\n",
              "  <thead>\n",
              "    <tr style=\"text-align: right;\">\n",
              "      <th></th>\n",
              "      <th>Algorithm</th>\n",
              "      <th>Type</th>\n",
              "      <th>Value</th>\n",
              "    </tr>\n",
              "  </thead>\n",
              "  <tbody>\n",
              "    <tr>\n",
              "      <th>0</th>\n",
              "      <td>random_hill_climb</td>\n",
              "      <td>Training Time</td>\n",
              "      <td>2.992848</td>\n",
              "    </tr>\n",
              "    <tr>\n",
              "      <th>1</th>\n",
              "      <td>simulated_annealing</td>\n",
              "      <td>Training Time</td>\n",
              "      <td>5.273218</td>\n",
              "    </tr>\n",
              "    <tr>\n",
              "      <th>2</th>\n",
              "      <td>genetic_alg</td>\n",
              "      <td>Training Time</td>\n",
              "      <td>102.366079</td>\n",
              "    </tr>\n",
              "    <tr>\n",
              "      <th>3</th>\n",
              "      <td>random_hill_climb</td>\n",
              "      <td>Test Accuracy</td>\n",
              "      <td>0.748918</td>\n",
              "    </tr>\n",
              "    <tr>\n",
              "      <th>4</th>\n",
              "      <td>simulated_annealing</td>\n",
              "      <td>Test Accuracy</td>\n",
              "      <td>0.718615</td>\n",
              "    </tr>\n",
              "    <tr>\n",
              "      <th>5</th>\n",
              "      <td>genetic_alg</td>\n",
              "      <td>Test Accuracy</td>\n",
              "      <td>0.748918</td>\n",
              "    </tr>\n",
              "    <tr>\n",
              "      <th>6</th>\n",
              "      <td>random_hill_climb</td>\n",
              "      <td>Testing Time</td>\n",
              "      <td>0.000246</td>\n",
              "    </tr>\n",
              "    <tr>\n",
              "      <th>7</th>\n",
              "      <td>simulated_annealing</td>\n",
              "      <td>Testing Time</td>\n",
              "      <td>0.000237</td>\n",
              "    </tr>\n",
              "    <tr>\n",
              "      <th>8</th>\n",
              "      <td>genetic_alg</td>\n",
              "      <td>Testing Time</td>\n",
              "      <td>0.000258</td>\n",
              "    </tr>\n",
              "  </tbody>\n",
              "</table>\n",
              "</div>"
            ],
            "text/plain": [
              "             Algorithm           Type       Value\n",
              "0    random_hill_climb  Training Time    2.992848\n",
              "1  simulated_annealing  Training Time    5.273218\n",
              "2          genetic_alg  Training Time  102.366079\n",
              "3    random_hill_climb  Test Accuracy    0.748918\n",
              "4  simulated_annealing  Test Accuracy    0.718615\n",
              "5          genetic_alg  Test Accuracy    0.748918\n",
              "6    random_hill_climb   Testing Time    0.000246\n",
              "7  simulated_annealing   Testing Time    0.000237\n",
              "8          genetic_alg   Testing Time    0.000258"
            ]
          },
          "metadata": {
            "tags": []
          },
          "execution_count": 85
        }
      ]
    },
    {
      "cell_type": "code",
      "metadata": {
        "colab": {
          "base_uri": "https://localhost:8080/",
          "height": 296
        },
        "id": "GprIvwnq1szK",
        "outputId": "2b46c5f2-eb64-49fa-ca69-522bd24ae449"
      },
      "source": [
        "sns.barplot(data=df_times[df_times[\"Type\"]==\"Training Time\"], x=\"Type\", y=\"Value\", hue=\"Algorithm\")"
      ],
      "execution_count": null,
      "outputs": [
        {
          "output_type": "execute_result",
          "data": {
            "text/plain": [
              "<matplotlib.axes._subplots.AxesSubplot at 0x7fe8b9fd8290>"
            ]
          },
          "metadata": {
            "tags": []
          },
          "execution_count": 88
        },
        {
          "output_type": "display_data",
          "data": {
            "image/png": "[encoded data removed]",
            "text/plain": [
              "<Figure size 432x288 with 1 Axes>"
            ]
          },
          "metadata": {
            "tags": [],
            "needs_background": "light"
          }
        }
      ]
    },
    {
      "cell_type": "code",
      "metadata": {
        "colab": {
          "base_uri": "https://localhost:8080/",
          "height": 296
        },
        "id": "XLRimYlR2lMU",
        "outputId": "8c064866-1d1d-4571-d471-3b6a46b6bdd5"
      },
      "source": [
        "sns.barplot(data=df_times[df_times[\"Type\"]==\"Testing Time\"], x=\"Type\", y=\"Value\", hue=\"Algorithm\")"
      ],
      "execution_count": null,
      "outputs": [
        {
          "output_type": "execute_result",
          "data": {
            "text/plain": [
              "<matplotlib.axes._subplots.AxesSubplot at 0x7fe8ba78b090>"
            ]
          },
          "metadata": {
            "tags": []
          },
          "execution_count": 89
        },
        {
          "output_type": "display_data",
          "data": {
            "image/png": "[encoded data removed]",
            "text/plain": [
              "<Figure size 432x288 with 1 Axes>"
            ]
          },
          "metadata": {
            "tags": [],
            "needs_background": "light"
          }
        }
      ]
    },
    {
      "cell_type": "code",
      "metadata": {
        "colab": {
          "base_uri": "https://localhost:8080/",
          "height": 296
        },
        "id": "cdC1kvXy3Ahj",
        "outputId": "e41e956a-07a3-4708-d6fd-f9eff1074d2e"
      },
      "source": [
        "sns.barplot(data=df_times[df_times[\"Type\"]==\"Test Accuracy\"], x=\"Type\", y=\"Value\", hue=\"Algorithm\")"
      ],
      "execution_count": null,
      "outputs": [
        {
          "output_type": "execute_result",
          "data": {
            "text/plain": [
              "<matplotlib.axes._subplots.AxesSubplot at 0x7fe8ba574a90>"
            ]
          },
          "metadata": {
            "tags": []
          },
          "execution_count": 91
        },
        {
          "output_type": "display_data",
          "data": {
            "image/png": "[encoded data removed]",
            "text/plain": [
              "<Figure size 432x288 with 1 Axes>"
            ]
          },
          "metadata": {
            "tags": [],
            "needs_background": "light"
          }
        }
      ]
    },
    {
      "cell_type": "code",
      "metadata": {
        "id": "ag1b71cQ48So"
      },
      "source": [
        ""
      ],
      "execution_count": null,
      "outputs": []
    }
  ]
}